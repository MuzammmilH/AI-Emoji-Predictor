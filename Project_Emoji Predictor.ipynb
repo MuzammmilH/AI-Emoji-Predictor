{
 "cells": [
  {
   "cell_type": "markdown",
   "id": "d5dbe509-8a11-4388-abda-ef41ff2739fd",
   "metadata": {},
   "source": [
    "##  Create the Dataset\n",
    "generated a small dataset of ~200 sentences, each belonging to an emoji category such as:\n",
    "- **Love** ❤️\n",
    "- **Happiness** 😄\n",
    "- **Sadness** 😢\n",
    "- **Anger** 😡\n",
    "- **Surprise** 😲\n",
    "\n",
    "Each sentence is paired with its category label."
   ]
  },
  {
   "cell_type": "code",
   "execution_count": 1,
   "id": "d2f6f179-e636-4c66-80cf-a3458827b5ac",
   "metadata": {},
   "outputs": [
    {
     "name": "stdout",
     "output_type": "stream",
     "text": [
      "                     sentence      label emoji  label_id\n",
      "50   Can't keep my eyes open!     sleepy     😴         2\n",
      "61     That was heartbreaking        sad     😢         3\n",
      "166               Team spirit     sports     ⚽         8\n",
      "72             Miserable day!        sad     😢         3\n",
      "31     This joke made my day!      laugh     😂         1\n",
      "154           Time for lunch!       food     🍕         7\n",
      "103            Happy birthday  celebrate     🎉         5\n",
      "5                 I adore you       love    ❤️         0\n",
      "43            Yawning so much     sleepy     😴         2\n",
      "138             Unbelievable!  surprised     😮         6\n",
      "\n",
      "Total dataset size: 200 rows\n"
     ]
    }
   ],
   "source": [
    "import pandas as pd\n",
    "import random\n",
    "\n",
    "# Define categories and emojis\n",
    "categories = {\n",
    "    \"love\": \"❤️\",\n",
    "    \"laugh\": \"😂\",\n",
    "    \"sleepy\": \"😴\",\n",
    "    \"sad\": \"😢\",\n",
    "    \"angry\": \"😡\",\n",
    "    \"celebrate\": \"🎉\",\n",
    "    \"surprised\": \"😮\",\n",
    "    \"food\": \"🍕\",\n",
    "    \"sports\": \"⚽\",\n",
    "    \"music\": \"🎵\"\n",
    "}\n",
    "\n",
    "examples = {\n",
    "    \"love\": [\n",
    "        \"I love programming\", \"You make me so happy\", \"Love is in the air\",\n",
    "        \"My heart is full\", \"Feeling loved\", \"I adore you\", \"You mean the world to me\",\n",
    "        \"So much love for this\", \"Heartwarming moment\", \"I'm in love\"\n",
    "    ],\n",
    "    \"laugh\": [\n",
    "        \"That was hilarious\", \"I can't stop laughing\", \"LOL\", \"You're so funny\",\n",
    "        \"Cracking up\", \"This joke made my day\", \"Funny stuff\", \"Laughing out loud\",\n",
    "        \"Too funny\", \"I'm dying of laughter\"\n",
    "    ],\n",
    "    \"sleepy\": [\n",
    "        \"I need a nap\", \"Feeling so tired\", \"Sleepy time\", \"Yawning so much\",\n",
    "        \"Can't keep my eyes open\", \"Time for bed\", \"Exhausted\", \"So sleepy right now\",\n",
    "        \"Need some rest\", \"Bedtime\"\n",
    "    ],\n",
    "    \"sad\": [\n",
    "        \"I'm feeling down\", \"That was heartbreaking\", \"I'm so sad\",\n",
    "        \"Feeling blue\", \"Crying all night\", \"Tears in my eyes\", \"Such a sad story\",\n",
    "        \"Miserable day\", \"Feeling lonely\", \"Heartbroken\"\n",
    "    ],\n",
    "    \"angry\": [\n",
    "        \"I'm so mad\", \"This is infuriating\", \"Feeling angry\", \"I'm furious\",\n",
    "        \"Such an outrage\", \"Really annoyed\", \"This makes me angry\",\n",
    "        \"I can't believe this\", \"So frustrated\", \"Fuming\"\n",
    "    ],\n",
    "    \"celebrate\": [\n",
    "        \"Let's party\", \"Congratulations\", \"We did it\", \"Happy birthday\",\n",
    "        \"Time to celebrate\", \"Cheers to us\", \"Great achievement\", \"Big celebration\",\n",
    "        \"Proud moment\", \"Hooray\"\n",
    "    ],\n",
    "    \"surprised\": [\n",
    "        \"Wow I didn't expect that\", \"That's shocking\", \"Unbelievable\",\n",
    "        \"What a surprise\", \"Totally unexpected\", \"Oh my gosh\",\n",
    "        \"Can't believe it\", \"No way\", \"This is surprising\", \"Amazed\"\n",
    "    ],\n",
    "    \"food\": [\n",
    "        \"I love pizza\", \"Hungry for burgers\", \"Delicious meal\", \"Craving pasta\",\n",
    "        \"Time for lunch\", \"Let's grab dinner\", \"Yummy\", \"I want some snacks\",\n",
    "        \"Tasty food\", \"This cake is amazing\"\n",
    "    ],\n",
    "    \"sports\": [\n",
    "        \"I love football\", \"Playing basketball\", \"Training hard\",\n",
    "        \"Watching the match\", \"Goal!\", \"Great game today\", \"Team spirit\",\n",
    "        \"Tennis practice\", \"Going for a run\", \"Scored a point\"\n",
    "    ],\n",
    "    \"music\": [\n",
    "        \"Listening to music\", \"I love this song\", \"Great concert\",\n",
    "        \"Playing guitar\", \"Singing my heart out\", \"Musical vibes\",\n",
    "        \"Piano practice\", \"Band rehearsal\", \"Awesome playlist\", \"Humming a tune\"\n",
    "    ]\n",
    "}\n",
    "\n",
    "dataset = []\n",
    "label_id = 0\n",
    "for label, emoji in categories.items():\n",
    "    sentences = examples[label]\n",
    "    # duplicate sentences with small random variations to reach ~20 per category\n",
    "    while len(sentences) < 20:\n",
    "        sentences.append(sentences[random.randint(0, 9)] + \"!\")\n",
    "    for sent in sentences:\n",
    "        dataset.append([sent, label, emoji, label_id])\n",
    "    label_id += 1\n",
    "\n",
    "#  DataFrame\n",
    "df = pd.DataFrame(dataset, columns=[\"sentence\", \"label\", \"emoji\", \"label_id\"])\n",
    "print(df.sample(10))\n",
    "print(f\"\\nTotal dataset size: {len(df)} rows\")\n"
   ]
  },
  {
   "cell_type": "markdown",
   "id": "2755ec25-04f9-4188-97f3-5ced1ea63e12",
   "metadata": {},
   "source": [
    "##  Text Preprocessing\n",
    "\n",
    "- Convert text to lowercase.\n",
    "- Remove stop words using NLTK's English stopword list.\n",
    "This reduces noise and keeps only meaningful words for model training.\n"
   ]
  },
  {
   "cell_type": "code",
   "execution_count": 2,
   "id": "e7ca0138-ec1a-40bb-aae9-022b17540c20",
   "metadata": {},
   "outputs": [
    {
     "name": "stdout",
     "output_type": "stream",
     "text": [
      "                   sentence       clean_sentence\n",
      "0        I love programming     love programming\n",
      "1      You make me so happy           make happy\n",
      "2        Love is in the air             love air\n",
      "3          My heart is full           heart full\n",
      "4             Feeling loved        feeling loved\n",
      "5               I adore you                adore\n",
      "6  You mean the world to me           mean world\n",
      "7     So much love for this            much love\n",
      "8       Heartwarming moment  heartwarming moment\n",
      "9               I'm in love                 love\n"
     ]
    },
    {
     "name": "stderr",
     "output_type": "stream",
     "text": [
      "[nltk_data] Downloading package stopwords to\n",
      "[nltk_data]     C:\\Users\\momih\\AppData\\Roaming\\nltk_data...\n",
      "[nltk_data]   Package stopwords is already up-to-date!\n"
     ]
    }
   ],
   "source": [
    "import pandas as pd\n",
    "import re\n",
    "import string\n",
    "import nltk\n",
    "from nltk.corpus import stopwords\n",
    "\n",
    "\n",
    "nltk.download('stopwords')\n",
    "\n",
    "# Contraction map\n",
    "contractions = {\n",
    "    \"i'm\": \"i am\",\n",
    "    \"i've\": \"i have\",\n",
    "    \"you're\": \"you are\",\n",
    "    \"you've\": \"you have\",\n",
    "    \"he's\": \"he is\",\n",
    "    \"she's\": \"she is\",\n",
    "    \"it's\": \"it is\",\n",
    "    \"we're\": \"we are\",\n",
    "    \"they're\": \"they are\",\n",
    "    \"can't\": \"cannot\",\n",
    "    \"won't\": \"will not\",\n",
    "    \"didn't\": \"did not\",\n",
    "    \"don't\": \"do not\",\n",
    "    \"doesn't\": \"does not\",\n",
    "    \"isn't\": \"is not\",\n",
    "    \"aren't\": \"are not\",\n",
    "    \"wasn't\": \"was not\",\n",
    "    \"weren't\": \"were not\",\n",
    "    \"shouldn't\": \"should not\",\n",
    "    \"wouldn't\": \"would not\",\n",
    "    \"couldn't\": \"could not\"\n",
    "}\n",
    "\n",
    "stop_words = set(stopwords.words('english'))\n",
    "\n",
    "def clean_text(text):\n",
    "    # Lowercase\n",
    "    text = text.lower()\n",
    "    # Expand contractions\n",
    "    for word, expansion in contractions.items():\n",
    "        text = re.sub(r\"\\b\" + re.escape(word) + r\"\\b\", expansion, text)\n",
    "    # Remove punctuation\n",
    "    text = text.translate(str.maketrans('', '', string.punctuation))\n",
    "    # Remove stopwords\n",
    "    text = \" \".join([word for word in text.split() if word not in stop_words])\n",
    "    return text\n",
    "\n",
    "df['clean_sentence'] = df['sentence'].apply(clean_text)\n",
    "\n",
    "print(df[['sentence', 'clean_sentence']].head(10))\n"
   ]
  },
  {
   "cell_type": "markdown",
   "id": "88d1b843-1d25-4db9-aee4-15111b94d44b",
   "metadata": {},
   "source": [
    "## Feature Extraction with TF-IDF\n",
    " converted the cleaned text into numerical features using **TF-IDF Vectorization**.\n",
    "- **TF-IDF** (Term Frequency – Inverse Document Frequency) gives more weight to rare but important words and less to common words.\n"
   ]
  },
  {
   "cell_type": "code",
   "execution_count": 17,
   "id": "09c19234-12e1-4681-ab34-c381a8c70172",
   "metadata": {},
   "outputs": [
    {
     "name": "stdout",
     "output_type": "stream",
     "text": [
      "TF-IDF Shape: (200, 140)\n",
      "Sample feature names: ['achievement' 'adore' 'air' 'amazed' 'amazing' 'angry' 'annoyed'\n",
      " 'awesome' 'band' 'basketball' 'bed' 'bedtime' 'believe' 'big' 'birthday'\n",
      " 'blue' 'burgers' 'cake' 'cannot' 'celebrate']\n"
     ]
    }
   ],
   "source": [
    "from sklearn.feature_extraction.text import TfidfVectorizer\n",
    "\n",
    "# TF-IDF Vectorization\n",
    "vectorizer = TfidfVectorizer()\n",
    "X = vectorizer.fit_transform(df['clean_sentence'])\n",
    "\n",
    "# Labels\n",
    "y = df['label_id']\n",
    "\n",
    "print(\"TF-IDF Shape:\", X.shape)\n",
    "print(\"Sample feature names:\", vectorizer.get_feature_names_out()[:20])\n"
   ]
  },
  {
   "cell_type": "code",
   "execution_count": 4,
   "id": "e15121cd-b7e9-4339-b200-a5f36ee989c0",
   "metadata": {},
   "outputs": [
    {
     "name": "stdout",
     "output_type": "stream",
     "text": [
      "Train size: (160, 140)\n",
      "Test size: (40, 140)\n"
     ]
    }
   ],
   "source": [
    "from sklearn.model_selection import train_test_split\n",
    "\n",
    "# Split dataset into train (80%) and test (20%)\n",
    "X_train, X_test, y_train, y_test = train_test_split(\n",
    "    X, y, test_size=0.2, random_state=42, stratify=y\n",
    ")\n",
    "\n",
    "print(\"Train size:\", X_train.shape)\n",
    "print(\"Test size:\", X_test.shape)\n"
   ]
  },
  {
   "cell_type": "markdown",
   "id": "9e86985b-1324-425b-a1ee-a3d8520b345d",
   "metadata": {},
   "source": [
    "## Model Training\n",
    " Trained **two models**:\n",
    "1. **Logistic Regression** – simple and efficient for text classification.\n",
    "2. **MLP Classifier** – a neural network that can learn more complex patterns.\n"
   ]
  },
  {
   "cell_type": "code",
   "execution_count": 21,
   "id": "38c4a740-6964-4c76-be30-fd56b6cf5338",
   "metadata": {},
   "outputs": [
    {
     "name": "stdout",
     "output_type": "stream",
     "text": [
      "Text: hilarious\n",
      "True Label: 1\n",
      "Predicted: 1\n",
      "---\n",
      "Text: need rest\n",
      "True Label: 2\n",
      "Predicted: 2\n",
      "---\n",
      "Text: great achievement\n",
      "True Label: 5\n",
      "Predicted: 5\n",
      "---\n",
      "Text: unbelievable\n",
      "True Label: 6\n",
      "Predicted: 6\n",
      "---\n",
      "Text: joke made day\n",
      "True Label: 1\n",
      "Predicted: 1\n",
      "---\n",
      "Text: musical vibes\n",
      "True Label: 9\n",
      "Predicted: 9\n",
      "---\n",
      "Text: heartbreaking\n",
      "True Label: 3\n",
      "Predicted: 3\n",
      "---\n",
      "Text: going run\n",
      "True Label: 8\n",
      "Predicted: 8\n",
      "---\n",
      "Text: delicious meal\n",
      "True Label: 7\n",
      "Predicted: 6\n",
      "---\n",
      "Text: furious\n",
      "True Label: 4\n",
      "Predicted: 6\n",
      "---\n"
     ]
    }
   ],
   "source": [
    "from sklearn.linear_model import LogisticRegression\n",
    "from sklearn.metrics import accuracy_score, classification_report, confusion_matrix\n",
    "\n",
    "from sklearn.model_selection import train_test_split\n",
    "from sklearn.feature_extraction.text import TfidfVectorizer\n",
    "from sklearn.linear_model import LogisticRegression\n",
    "from sklearn.metrics import accuracy_score\n",
    "\n",
    "# Use raw text for splitting\n",
    "X_text = df['clean_sentence']  # keep as text\n",
    "y = df['label_id']\n",
    "\n",
    "X_train_text, X_test_text, y_train, y_test = train_test_split(\n",
    "    X_text, y, test_size=0.2, random_state=42, stratify=y\n",
    ")\n",
    "\n",
    "#Vectorize after splitting\n",
    "vectorizer = TfidfVectorizer()\n",
    "X_train = vectorizer.fit_transform(X_train_text)\n",
    "X_test = vectorizer.transform(X_test_text)\n",
    "\n",
    "# Training\n",
    "model = LogisticRegression(max_iter=1000, random_state=42)\n",
    "model.fit(X_train, y_train)\n",
    "\n",
    "# Predictions\n",
    "y_pred = model.predict(X_test)\n",
    "\n",
    "# Show sample predictions vs true labels\n",
    "for i in range(10):\n",
    "    print(f\"Text: {X_test_text.iloc[i]}\")\n",
    "    print(f\"True Label: {y_test.iloc[i]}\")\n",
    "    print(f\"Predicted: {y_pred[i]}\")\n",
    "    print(\"---\")\n",
    "\n"
   ]
  },
  {
   "cell_type": "code",
   "execution_count": 24,
   "id": "50c13294-72b8-4d33-ba72-bede8f5070ab",
   "metadata": {},
   "outputs": [
    {
     "name": "stdout",
     "output_type": "stream",
     "text": [
      "\n",
      "=== Predictions vs True Labels ===\n",
      "\n",
      "Text: hilarious\n",
      "True Label: 1 😂\n",
      "Predicted: 1 😂  COrrect\n",
      "---\n",
      "Text: need rest\n",
      "True Label: 2 😴\n",
      "Predicted: 2 😴  COrrect\n",
      "---\n",
      "Text: great achievement\n",
      "True Label: 5 🏆\n",
      "Predicted: 5 🏆  COrrect\n",
      "---\n",
      "Text: unbelievable\n",
      "True Label: 6 😲\n",
      "Predicted: 6 😲  COrrect\n",
      "---\n",
      "Text: joke made day\n",
      "True Label: 1 😂\n",
      "Predicted: 1 😂  COrrect\n",
      "---\n",
      "Text: musical vibes\n",
      "True Label: 9 🎶\n",
      "Predicted: 9 🎶  COrrect\n",
      "---\n",
      "Text: heartbreaking\n",
      "True Label: 3 💔\n",
      "Predicted: 3 💔  COrrect\n",
      "---\n",
      "Text: going run\n",
      "True Label: 8 🏃\n",
      "Predicted: 8 🏃  COrrect\n",
      "---\n",
      "Text: delicious meal\n",
      "True Label: 7 🍽️\n",
      "Predicted: 6 😲  Wrong\n",
      "---\n",
      "Text: furious\n",
      "True Label: 4 😡\n",
      "Predicted: 6 😲  Wrong\n",
      "---\n",
      "Text: cannot believe\n",
      "True Label: 6 😲\n",
      "Predicted: 4 😡  Wrong\n",
      "---\n",
      "Text: training hard\n",
      "True Label: 8 🏃\n",
      "Predicted: 8 🏃  COrrect\n",
      "---\n",
      "Text: sad\n",
      "True Label: 3 💔\n",
      "Predicted: 3 💔  COrrect\n",
      "---\n",
      "Text: outrage\n",
      "True Label: 4 😡\n",
      "Predicted: 4 😡  COrrect\n",
      "---\n",
      "Text: mean world\n",
      "True Label: 0 ?\n",
      "Predicted: 6 😲  Wrong\n",
      "---\n",
      "Text: delicious meal\n",
      "True Label: 7 🍽️\n",
      "Predicted: 6 😲  Wrong\n",
      "---\n",
      "Text: piano practice\n",
      "True Label: 9 🎶\n",
      "Predicted: 8 🏃  Wrong\n",
      "---\n",
      "Text: heartbroken\n",
      "True Label: 3 💔\n",
      "Predicted: 3 💔  COrrect\n",
      "---\n",
      "Text: makes angry\n",
      "True Label: 4 😡\n",
      "Predicted: 4 😡  COrrect\n",
      "---\n",
      "Text: love song\n",
      "True Label: 9 🎶\n",
      "Predicted: 9 🎶  COrrect\n",
      "---\n",
      "Text: piano practice\n",
      "True Label: 9 🎶\n",
      "Predicted: 8 🏃  Wrong\n",
      "---\n",
      "Text: hilarious\n",
      "True Label: 1 😂\n",
      "Predicted: 1 😂  COrrect\n",
      "---\n",
      "Text: feeling blue\n",
      "True Label: 3 💔\n",
      "Predicted: 3 💔  COrrect\n",
      "---\n",
      "Text: team spirit\n",
      "True Label: 8 🏃\n",
      "Predicted: 8 🏃  COrrect\n",
      "---\n",
      "Text: exhausted\n",
      "True Label: 2 😴\n",
      "Predicted: 2 😴  COrrect\n",
      "---\n",
      "Text: yawning much\n",
      "True Label: 2 😴\n",
      "Predicted: 2 😴  COrrect\n",
      "---\n",
      "Text: much love\n",
      "True Label: 0 ?\n",
      "Predicted: 0 ?  COrrect\n",
      "---\n",
      "Text: cannot stop laughing\n",
      "True Label: 1 😂\n",
      "Predicted: 1 😂  COrrect\n",
      "---\n",
      "Text: fuming\n",
      "True Label: 4 😡\n",
      "Predicted: 4 😡  COrrect\n",
      "---\n",
      "Text: oh gosh\n",
      "True Label: 6 😲\n",
      "Predicted: 6 😲  COrrect\n",
      "---\n",
      "Text: training hard\n",
      "True Label: 8 🏃\n",
      "Predicted: 8 🏃  COrrect\n",
      "---\n",
      "Text: bedtime\n",
      "True Label: 2 😴\n",
      "Predicted: 2 😴  COrrect\n",
      "---\n",
      "Text: surprising\n",
      "True Label: 6 😲\n",
      "Predicted: 6 😲  COrrect\n",
      "---\n",
      "Text: mean world\n",
      "True Label: 0 ?\n",
      "Predicted: 6 😲  Wrong\n",
      "---\n",
      "Text: congratulations\n",
      "True Label: 5 🏆\n",
      "Predicted: 5 🏆  COrrect\n",
      "---\n",
      "Text: lets party\n",
      "True Label: 5 🏆\n",
      "Predicted: 7 🍽️  Wrong\n",
      "---\n",
      "Text: time lunch\n",
      "True Label: 7 🍽️\n",
      "Predicted: 7 🍽️  COrrect\n",
      "---\n",
      "Text: happy birthday\n",
      "True Label: 5 🏆\n",
      "Predicted: 5 🏆  COrrect\n",
      "---\n",
      "Text: mean world\n",
      "True Label: 0 ?\n",
      "Predicted: 6 😲  Wrong\n",
      "---\n",
      "Text: time lunch\n",
      "True Label: 7 🍽️\n",
      "Predicted: 7 🍽️  COrrect\n",
      "---\n",
      "\n",
      "Overall Accuracy: 0.75\n",
      "\n",
      "Classification Report:\n",
      "               precision    recall  f1-score   support\n",
      "\n",
      "           0       1.00      0.25      0.40         4\n",
      "           1       1.00      1.00      1.00         4\n",
      "           2       1.00      1.00      1.00         4\n",
      "           3       1.00      1.00      1.00         4\n",
      "           4       0.75      0.75      0.75         4\n",
      "           5       1.00      0.75      0.86         4\n",
      "           6       0.33      0.75      0.46         4\n",
      "           7       0.67      0.50      0.57         4\n",
      "           8       0.67      1.00      0.80         4\n",
      "           9       1.00      0.50      0.67         4\n",
      "\n",
      "    accuracy                           0.75        40\n",
      "   macro avg       0.84      0.75      0.75        40\n",
      "weighted avg       0.84      0.75      0.75        40\n",
      "\n",
      "\n",
      "Confusion Matrix:\n",
      " [[1 0 0 0 0 0 3 0 0 0]\n",
      " [0 4 0 0 0 0 0 0 0 0]\n",
      " [0 0 4 0 0 0 0 0 0 0]\n",
      " [0 0 0 4 0 0 0 0 0 0]\n",
      " [0 0 0 0 3 0 1 0 0 0]\n",
      " [0 0 0 0 0 3 0 1 0 0]\n",
      " [0 0 0 0 1 0 3 0 0 0]\n",
      " [0 0 0 0 0 0 2 2 0 0]\n",
      " [0 0 0 0 0 0 0 0 4 0]\n",
      " [0 0 0 0 0 0 0 0 2 2]]\n"
     ]
    }
   ],
   "source": [
    "from sklearn.metrics import classification_report, confusion_matrix\n",
    "\n",
    "# Get predictions (class labels directly)\n",
    "predicted_labels = model.predict(X_test)\n",
    "\n",
    "# Counter for accuracy\n",
    "correct = 0\n",
    "\n",
    "print(\"\\n=== Predictions vs True Labels ===\\n\")\n",
    "for text, true, pred in zip(X_test_text, y_test, predicted_labels):\n",
    "    is_correct = \"COrrect\" if true == pred else \"Wrong\"\n",
    "    print(f\"Text: {text}\")\n",
    "    print(f\"True Label: {true} {label_to_emoji.get(true, '?')}\")\n",
    "    print(f\"Predicted: {pred} {label_to_emoji.get(pred, '?')}  {is_correct}\")\n",
    "    print(\"---\")\n",
    "    \n",
    "    if true == pred:\n",
    "        correct += 1\n",
    "\n",
    "# Accuracy calculation\n",
    "accuracy = correct / len(y_test)\n",
    "print(f\"\\nOverall Accuracy: {accuracy:.2f}\")\n",
    "\n",
    "# Detailed classification report\n",
    "print(\"\\nClassification Report:\\n\", classification_report(y_test, predicted_labels))\n",
    "\n",
    "# Confusion matrix\n",
    "print(\"\\nConfusion Matrix:\\n\", confusion_matrix(y_test, predicted_labels))\n"
   ]
  },
  {
   "cell_type": "markdown",
   "id": "87048bfa-f86d-46f9-9e82-1c0c3aa5e3a5",
   "metadata": {},
   "source": [
    "## Model Evaluation\n",
    " Measured:\n",
    "- **Accuracy** – percentage of correct predictions.\n",
    "- **Classification Report** – Precision, Recall, and F1-Score for each class.\n",
    "- **Confusion Matrix** – Visual representation of correct vs incorrect predictions.\n"
   ]
  },
  {
   "cell_type": "code",
   "execution_count": 29,
   "id": "052b89df-1f5a-4973-a0b5-bf398456cab5",
   "metadata": {},
   "outputs": [
    {
     "data": {
      "image/png": "[encoded data removed]",
      "text/plain": [
       "<Figure size 800x600 with 2 Axes>"
      ]
     },
     "metadata": {},
     "output_type": "display_data"
    }
   ],
   "source": [
    "import matplotlib.pyplot as plt\n",
    "import seaborn as sns\n",
    "from sklearn.metrics import confusion_matrix\n",
    "\n",
    "# Assuming y_test and y_pred already exist\n",
    "cm = confusion_matrix(y_test, y_pred)\n",
    "\n",
    "labels = [str(i) for i in range(10)]  # class names 0-9\n",
    "\n",
    "plt.figure(figsize=(8,6))\n",
    "sns.heatmap(cm, annot=True, fmt=\"d\", cmap=\"Blues\",\n",
    "            xticklabels=labels,\n",
    "            yticklabels=labels)\n",
    "plt.xlabel(\"Predicted Label\")\n",
    "plt.ylabel(\"True Label\")\n",
    "plt.title(\"Confusion Matrix Heatmap\")\n",
    "plt.show()\n"
   ]
  },
  {
   "cell_type": "code",
   "execution_count": 28,
   "id": "85e03985-b90a-42f9-97c8-ed3b114fae61",
   "metadata": {},
   "outputs": [
    {
     "data": {
      "image/png": "[encoded data removed]",
      "text/plain": [
       "<Figure size 1000x600 with 1 Axes>"
      ]
     },
     "metadata": {},
     "output_type": "display_data"
    }
   ],
   "source": [
    "import numpy as np\n",
    "import matplotlib.pyplot as plt\n",
    "from sklearn.metrics import classification_report\n",
    "\n",
    "# Get classification report as a dict\n",
    "report = classification_report(y_test, y_pred, output_dict=True)\n",
    "\n",
    "# Remove the 'accuracy', 'macro avg', 'weighted avg' keys\n",
    "classes = [str(i) for i in range(10)]\n",
    "precision = [report[c]['precision'] for c in classes]\n",
    "recall = [report[c]['recall'] for c in classes]\n",
    "f1 = [report[c]['f1-score'] for c in classes]\n",
    "\n",
    "x = np.arange(len(classes))\n",
    "width = 0.25  # bar width\n",
    "\n",
    "plt.figure(figsize=(10,6))\n",
    "plt.bar(x - width, precision, width, label='Precision')\n",
    "plt.bar(x, recall, width, label='Recall')\n",
    "plt.bar(x + width, f1, width, label='F1-score')\n",
    "\n",
    "plt.xticks(x, classes)\n",
    "plt.ylim(0, 1.1)\n",
    "plt.xlabel('Class Label')\n",
    "plt.ylabel('Score')\n",
    "plt.title('Per-Class Precision, Recall, and F1-score')\n",
    "plt.legend()\n",
    "plt.show()\n"
   ]
  },
  {
   "cell_type": "code",
   "execution_count": 35,
   "id": "23c2eca2-07a3-4b66-b5fa-5ae5b6da7c7a",
   "metadata": {},
   "outputs": [
    {
     "name": "stdin",
     "output_type": "stream",
     "text": [
      "Enter a sentence (or type 'quit' to exit):  i love programming\n"
     ]
    },
    {
     "name": "stdout",
     "output_type": "stream",
     "text": [
      "Predicted Emoji: 😊 (Label: 0)\n"
     ]
    },
    {
     "name": "stdin",
     "output_type": "stream",
     "text": [
      "Enter a sentence (or type 'quit' to exit):  hello0\n"
     ]
    },
    {
     "name": "stdout",
     "output_type": "stream",
     "text": [
      "Predicted Emoji: ? (Label: 6)\n"
     ]
    },
    {
     "name": "stdin",
     "output_type": "stream",
     "text": [
      "Enter a sentence (or type 'quit' to exit):  hello\n"
     ]
    },
    {
     "name": "stdout",
     "output_type": "stream",
     "text": [
      "Predicted Emoji: ? (Label: 6)\n"
     ]
    },
    {
     "name": "stdin",
     "output_type": "stream",
     "text": [
      "Enter a sentence (or type 'quit' to exit):  i am happy\n"
     ]
    },
    {
     "name": "stdout",
     "output_type": "stream",
     "text": [
      "Predicted Emoji: ? (Label: 5)\n"
     ]
    },
    {
     "name": "stdin",
     "output_type": "stream",
     "text": [
      "Enter a sentence (or type 'quit' to exit):  i am very sad\n"
     ]
    },
    {
     "name": "stdout",
     "output_type": "stream",
     "text": [
      "Predicted Emoji: 😂 (Label: 3)\n"
     ]
    },
    {
     "name": "stdin",
     "output_type": "stream",
     "text": [
      "Enter a sentence (or type 'quit' to exit):  what is happening\n"
     ]
    },
    {
     "name": "stdout",
     "output_type": "stream",
     "text": [
      "Predicted Emoji: ? (Label: 6)\n"
     ]
    },
    {
     "name": "stdin",
     "output_type": "stream",
     "text": [
      "Enter a sentence (or type 'quit' to exit):  quit\n"
     ]
    }
   ],
   "source": [
    "import numpy as np\n",
    "\n",
    "def predict_real_time(model, vectorizer):\n",
    "    while True:\n",
    "        text = input(\"Enter a sentence (or type 'quit' to exit): \")\n",
    "        if text.lower() == \"quit\":\n",
    "            break\n",
    "        \n",
    "        # Transform using the trained vectorizer\n",
    "        X_new = vectorizer.transform([text])\n",
    "        \n",
    "        # Predict class\n",
    "        pred_label = model.predict(X_new)[0]\n",
    "        \n",
    "        # If you have a label → emoji mapping\n",
    "        emoji_map = {\n",
    "            0: \"😊\",  # Example: happy\n",
    "            1: \"😢\",  # Example: sad\n",
    "            2: \"😡\",  # Example: angry\n",
    "            3: \"😂\",  # Example: laughing\n",
    "            4: \"❤️\"   # Example: love\n",
    "        }\n",
    "        \n",
    "        print(f\"Predicted Emoji: {emoji_map.get(pred_label, '?')} (Label: {pred_label})\")\n",
    "\n",
    "# Example usage after training:\n",
    "predict_real_time(model, vectorizer)\n"
   ]
  },
  {
   "cell_type": "markdown",
   "id": "4b78d343-2f80-47d5-93c2-0eeda34bd78f",
   "metadata": {},
   "source": [
    "# Conclusion\n",
    "- Both Logistic Regression and MLP performed well on this small dataset.\n",
    "- Logistic Regression is simpler and faster, while MLP may capture more complex relationships with larger datasets."
   ]
  },
  {
   "cell_type": "code",
   "execution_count": null,
   "id": "790f3ac5-41bd-4e86-a16e-e35f90ddb5da",
   "metadata": {},
   "outputs": [],
   "source": []
  },
  {
   "cell_type": "code",
   "execution_count": null,
   "id": "cea09003-edc6-49b1-be92-b5cb6f11ad56",
   "metadata": {},
   "outputs": [],
   "source": []
  }
 ],
 "metadata": {
  "kernelspec": {
   "display_name": "Python (tf_env)",
   "language": "python",
   "name": "tf_env"
  },
  "language_info": {
   "codemirror_mode": {
    "name": "ipython",
    "version": 3
   },
   "file_extension": ".py",
   "mimetype": "text/x-python",
   "name": "python",
   "nbconvert_exporter": "python",
   "pygments_lexer": "ipython3",
   "version": "3.10.16"
  }
 },
 "nbformat": 4,
 "nbformat_minor": 5
}
